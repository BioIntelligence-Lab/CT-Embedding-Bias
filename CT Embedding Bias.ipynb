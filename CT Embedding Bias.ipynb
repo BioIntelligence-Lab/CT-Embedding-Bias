{
 "cells": [
  {
   "cell_type": "code",
   "execution_count": null,
   "id": "7f4c739c-fd89-4cb6-9c0d-42629b9229d7",
   "metadata": {
    "tags": []
   },
   "outputs": [],
   "source": [
    "import pandas as pd\n",
    "import numpy as np\n",
    "tune_path = 'nlst_tune_with_labels.npz' # @param {type:\"string\"}\n",
    "train_path = 'nlst_train_with_labels.npz' # @param {type:\"string\"}\n",
    "\n",
    "def read_embeddings(f):\n",
    "    data = np.load(f,allow_pickle=True)\n",
    "    key = data.files[0]\n",
    "    return pd.DataFrame.from_dict(data[key].item(), orient='index')\n",
    "\n",
    "df_tune = read_embeddings(tune_path)\n",
    "df_train = read_embeddings(train_path)\n",
    "\n",
    "demo=pd.read_csv('nlst_780_prsn_idc_20210527.csv')"
   ]
  },
  {
   "cell_type": "code",
   "execution_count": null,
   "id": "8a1e75f6-66c3-40d9-899d-d2393d5ff3a2",
   "metadata": {
    "tags": []
   },
   "outputs": [],
   "source": [
    "def get_pid(df):\n",
    "    pid=[int(i.split('/')[1]) for i in df.index]\n",
    "    df['pid']=pid\n",
    "    return df\n",
    "df_tune=get_pid(df_tune)\n",
    "df_train=get_pid(df_train)"
   ]
  },
  {
   "cell_type": "code",
   "execution_count": null,
   "id": "a992dc3a-963d-4c50-867e-a830026b1df0",
   "metadata": {
    "tags": []
   },
   "outputs": [],
   "source": [
    "def add_demo(df):\n",
    "    columns=['age','gender','race']\n",
    "    pid=list(df['pid'])\n",
    "    demo_pid=list(demo['pid'])\n",
    "    indices = [demo_pid.index(x) for x in pid if x in demo_pid]\n",
    "    #print(indices)\n",
    "    selected_rows = demo.iloc[indices]\n",
    "    #print(selected_rows)\n",
    "    selected_columns = selected_rows[columns]\n",
    "    selected_columns.reset_index(drop=True, inplace=True)\n",
    "    print(len(selected_columns),len(df))\n",
    "    df['age']=list(selected_columns['age'])\n",
    "    df['gender']=list(selected_columns['gender'])\n",
    "    df['race']=list(selected_columns['race'])\n",
    "\n",
    "    return df\n",
    "\n",
    "df_tune=add_demo(df_tune)"
   ]
  },
  {
   "cell_type": "code",
   "execution_count": null,
   "id": "71b2452d-b906-4d1d-b754-5f681bb6b1da",
   "metadata": {
    "tags": []
   },
   "outputs": [],
   "source": [
    "df_train=add_demo(df_train)"
   ]
  },
  {
   "cell_type": "markdown",
   "id": "b6210360-27ed-4c77-9a6a-7960f06663b6",
   "metadata": {},
   "source": [
    "## gender"
   ]
  },
  {
   "cell_type": "code",
   "execution_count": null,
   "id": "1f3bd11e-ed97-40ff-a3ba-9e2f7cdac799",
   "metadata": {
    "tags": []
   },
   "outputs": [],
   "source": [
    "import tensorflow as tf \n",
    "import keras\n",
    "from sklearn.metrics import roc_auc_score\n",
    "from keras.layers import Dense\n",
    "from tensorflow.keras.losses import BinaryFocalCrossentropy\n",
    "from keras.models import Sequential\n",
    "\n",
    "import numpy as np\n",
    "def make_mlp():\n",
    "    model = Sequential()\n",
    "    model.add(Dense(1, activation='sigmoid',input_dim=1408))\n",
    "    return model\n",
    "\n",
    "\n",
    "X_train=np.array(list(df_train['embedding']))\n",
    "y_train=np.array(list(df_train['gender']))\n",
    "X_test=np.array(list(df_tune['embedding']))\n",
    "y_test=np.array(list(df_tune['gender']))\n",
    "\n",
    "print(X_train.shape,y_train.shape,X_test.shape,y_test.shape)\n",
    "\n",
    "print(np.unique(y_train),np.unique(y_test))\n",
    "y_train=y_train-1\n",
    "y_test=y_test-1\n",
    "print(np.unique(y_train),np.unique(y_test))\n",
    "\n",
    "\n",
    "model=make_mlp()\n",
    "model.compile(loss=tf.keras.losses.BinaryFocalCrossentropy(), optimizer=tf.keras.optimizers.Adam(learning_rate = 0.001), metrics=['AUC'])\n",
    "from keras.callbacks import CSVLogger\n",
    "csv_logger = CSVLogger('saved_csv/gender.csv') #change the name of this to reflect your model\n",
    "\n",
    "history=model.fit(X_train, y_train, validation_data=(X_test, y_test), epochs=5, batch_size=16,verbose=1, shuffle=True, callbacks=[csv_logger], use_multiprocessing = True)"
   ]
  },
  {
   "cell_type": "markdown",
   "id": "5d427693-4c77-422e-8342-d5c7aaa93b5f",
   "metadata": {},
   "source": [
    "## race"
   ]
  },
  {
   "cell_type": "code",
   "execution_count": null,
   "id": "b24e77a9-829e-406e-87b5-03e291d76a21",
   "metadata": {
    "tags": []
   },
   "outputs": [],
   "source": [
    "def clean_data(X,y):\n",
    "    index_good=np.where(y<=3)\n",
    "    return X[index_good],y[index_good]\n",
    "\n",
    "def integer_to_categorical(array):\n",
    "    if np.any((array < 1) | (array > 3)):\n",
    "        raise ValueError(\"All integers must be between 1 and 7.\")\n",
    "    # Create a matrix of zeros with shape (number of integers, 7 categories)\n",
    "    categorical = np.zeros((array.size, 3))\n",
    "    # Use numpy advanced indexing to set the appropriate positions to 1\n",
    "    categorical[np.arange(array.size), array - 1] = 1\n",
    "    return categorical\n",
    "\n",
    "from sklearn.preprocessing import label_binarize\n",
    "\n",
    "def compute_per_class_auc(y_true, y_score):\n",
    "    # Determine the number of classes based on y_score\n",
    "    n_classes = y_score.shape[1]\n",
    "    \n",
    "    # Binarize the true labels for AUC calculation\n",
    "    y_true_binarized = label_binarize(y_true, classes=np.arange(n_classes))\n",
    "    \n",
    "    # Calculate AUC for each class\n",
    "    per_class_auc = {\n",
    "        i: roc_auc_score(y_true_binarized[:, i], y_score[:, i]) for i in range(n_classes)\n",
    "    }\n",
    "    \n",
    "    return per_class_auc"
   ]
  },
  {
   "cell_type": "code",
   "execution_count": null,
   "id": "56d8127a-44b1-4c0e-a905-7a8f1f9fe649",
   "metadata": {
    "tags": []
   },
   "outputs": [],
   "source": [
    "\n",
    "def make_mlp():\n",
    "    model = Sequential()\n",
    "    model.add(Dense(3, activation='softmax',input_dim=1408))\n",
    "    return model\n",
    "\n",
    "\n",
    "X_train=np.array(list(df_train['embedding']))\n",
    "y_train=np.array(list(df_train['race']))\n",
    "X_test=np.array(list(df_tune['embedding']))\n",
    "y_test=np.array(list(df_tune['race']))\n",
    "\n",
    "#only use white, black, asian\n",
    "X_train,y_train=clean_data(X_train,y_train)\n",
    "X_test,y_test=clean_data(X_test,y_test)\n",
    "\n",
    "y_train = integer_to_categorical(y_train)\n",
    "y_test = integer_to_categorical(y_test)\n",
    "\n",
    "print(X_train.shape,y_train.shape,X_test.shape,y_test.shape)\n",
    "\n",
    "print(np.unique(y_train,axis=0).shape,np.unique(y_test,axis=0).shape)\n",
    "\n",
    "model=make_mlp()\n",
    "\n",
    "model.compile(loss=tf.keras.losses.CategoricalCrossentropy(), optimizer=tf.keras.optimizers.Adam(learning_rate = 0.001), metrics=[tf.keras.metrics.AUC(multi_label = True)])\n",
    "csv_logger = CSVLogger('saved_csv/race.csv') #change the name of this to reflect your model\n",
    "history=model.fit(X_train, y_train, validation_data=(X_test, y_test), epochs=5, batch_size=16,verbose=1, shuffle=True, callbacks=[csv_logger], use_multiprocessing = True)\n",
    "\n",
    "y_pred=model.predict(X_test)"
   ]
  },
  {
   "cell_type": "code",
   "execution_count": null,
   "id": "ec2343ed-a60a-4045-89aa-01d1121eca74",
   "metadata": {
    "tags": []
   },
   "outputs": [],
   "source": [
    "race=['White',\"Black or African-American\",\"Asian\"]\n",
    "\n",
    "d=compute_per_class_auc(y_test, y_pred)\n",
    "d={race[i]:np.round(j,4) for i,j in d.items()}\n",
    "d"
   ]
  },
  {
   "cell_type": "code",
   "execution_count": null,
   "id": "51a43855-a6dd-475c-b3b8-e0ea92986757",
   "metadata": {
    "tags": []
   },
   "outputs": [],
   "source": [
    "np.mean(list(d.values())),np.std(list(d.values()))"
   ]
  },
  {
   "cell_type": "markdown",
   "id": "83db84f0-7921-438f-b981-7594d22c703b",
   "metadata": {},
   "source": [
    "## age"
   ]
  },
  {
   "cell_type": "code",
   "execution_count": null,
   "id": "ca01134a-ef4b-4794-afa1-e325e6a7734f",
   "metadata": {
    "tags": []
   },
   "outputs": [],
   "source": [
    "def make_mlp():\n",
    "    model = Sequential()\n",
    "    model.add(Dense(1, input_dim=1408))\n",
    "    return model\n",
    "\n",
    "\n",
    "X_train=np.array(list(df_train['embedding']))\n",
    "y_train=np.array(list(df_train['age']))-55\n",
    "X_test=np.array(list(df_tune['embedding']))\n",
    "y_test=np.array(list(df_tune['age']))-55\n",
    "\n",
    "\n",
    "print(X_train.shape,y_train.shape,X_test.shape,y_test.shape)\n",
    "\n",
    "print(np.unique(y_train,axis=0),np.unique(y_test,axis=0))\n",
    "\n",
    "model=make_mlp()\n",
    "model.compile(loss='mse', metrics=[tf.keras.metrics.RootMeanSquaredError()], optimizer=tf.keras.optimizers.Adam(learning_rate = 0.001))\n",
    "\n",
    "from keras.callbacks import CSVLogger\n",
    "csv_logger = CSVLogger('saved_csv/age.csv') #change the name of this to reflect your model\n",
    "callback = tf.keras.callbacks.EarlyStopping(monitor='val_root_mean_squared_error',mode='min',verbose=1, patience=10)\n",
    "history=model.fit(X_train, y_train, validation_data=(X_test, y_test), epochs=5, batch_size=16,verbose=1, shuffle=True, callbacks=[callback,csv_logger], use_multiprocessing = True)"
   ]
  }
 ],
 "metadata": {
  "kernelspec": {
   "display_name": "Python 3 (ipykernel)",
   "language": "python",
   "name": "python3"
  },
  "language_info": {
   "codemirror_mode": {
    "name": "ipython",
    "version": 3
   },
   "file_extension": ".py",
   "mimetype": "text/x-python",
   "name": "python",
   "nbconvert_exporter": "python",
   "pygments_lexer": "ipython3",
   "version": "3.11.9"
  }
 },
 "nbformat": 4,
 "nbformat_minor": 5
}
